{
 "cells": [
  {
   "cell_type": "code",
   "execution_count": 8,
   "metadata": {},
   "outputs": [],
   "source": "def permutation(lst): \n  \n    # If lst is empty then there are no permutations \n    if len(lst) == 0: \n        return [] \n  \n    # If there is only one element in lst then, only \n    # one permuatation is possible \n    if len(lst) == 1: \n        return [lst] \n  \n    # Find the permutations for lst if there are \n    # more than 1 characters \n  \n    l = [] # empty list that will store current permutation \n  \n    # Iterate the input(lst) and calculate the permutation \n    for i in range(len(lst)): \n       m = lst[i] \n  \n       # Extract lst[i] or m from the list.  remLst is \n       # remaining list \n       remLst = lst[:i] + lst[i+1:] \n  \n       # Generating all permutations where m is first \n       # element \n       for p in permutation(remLst): \n           l.append([m] + p) \n    return l \n"
  },
  {
   "cell_type": "code",
   "execution_count": 9,
   "metadata": {},
   "outputs": [],
   "source": "f = open('/home/daniel/Documenti/MemoC/LAB1/data/data12.csv','r')\ns = f.read()"
  },
  {
   "cell_type": "code",
   "execution_count": 10,
   "metadata": {},
   "outputs": [],
   "source": "s = s.split('\\n')\nfor i in range(len(s)):\n    s[i] = s[i].split(' ')"
  },
  {
   "cell_type": "code",
   "execution_count": 11,
   "metadata": {},
   "outputs": [],
   "source": "info = []\nfor i in range(len(s)):\n    info.append([])\n    for j in range(len(s[i])):\n        if s[i][j] != '':\n            info[i].append(float(s[i][j]))"
  },
  {
   "cell_type": "code",
   "execution_count": 12,
   "metadata": {
    "scrolled": false
   },
   "outputs": [
    {
     "data": {
      "text/plain": "[[0.0,\n  300.0,\n  352.0,\n  466.0,\n  217.0,\n  238.0,\n  431.0,\n  336.0,\n  451.0,\n  47.0,\n  415.0,\n  515.0],\n [300.0,\n  0.0,\n  638.0,\n  180.0,\n  595.0,\n  190.0,\n  138.0,\n  271.0,\n  229.0,\n  236.0,\n  214.0,\n  393.0],\n [352.0,\n  638.0,\n  0.0,\n  251.0,\n  88.0,\n  401.0,\n  189.0,\n  386.0,\n  565.0,\n  206.0,\n  292.0,\n  349.0],\n [466.0,\n  180.0,\n  251.0,\n  0.0,\n  139.0,\n  371.0,\n  169.0,\n  316.0,\n  180.0,\n  284.0,\n  206.0,\n  198.0],\n [217.0,\n  595.0,\n  88.0,\n  139.0,\n  0.0,\n  310.0,\n  211.0,\n  295.0,\n  474.0,\n  130.0,\n  133.0,\n  165.0],\n [238.0,\n  190.0,\n  401.0,\n  371.0,\n  310.0,\n  0.0,\n  202.0,\n  122.0,\n  378.0,\n  157.0,\n  362.0,\n  542.0],\n [431.0,\n  138.0,\n  189.0,\n  169.0,\n  211.0,\n  202.0,\n  0.0,\n  183.0,\n  67.0,\n  268.0,\n  117.0,\n  369.0],\n [336.0,\n  271.0,\n  386.0,\n  316.0,\n  295.0,\n  122.0,\n  183.0,\n  0.0,\n  483.0,\n  155.0,\n  448.0,\n  108.0],\n [451.0,\n  229.0,\n  565.0,\n  180.0,\n  474.0,\n  378.0,\n  67.0,\n  483.0,\n  0.0,\n  299.0,\n  246.0,\n  418.0],\n [47.0,\n  236.0,\n  206.0,\n  284.0,\n  130.0,\n  157.0,\n  268.0,\n  155.0,\n  299.0,\n  0.0,\n  202.0,\n  327.0],\n [415.0,\n  214.0,\n  292.0,\n  206.0,\n  133.0,\n  362.0,\n  117.0,\n  448.0,\n  246.0,\n  202.0,\n  0.0,\n  394.0],\n [515.0,\n  393.0,\n  349.0,\n  198.0,\n  165.0,\n  542.0,\n  368.0,\n  108.0,\n  418.0,\n  327.0,\n  394.0,\n  0.0]]"
     },
     "execution_count": 12,
     "metadata": {},
     "output_type": "execute_result"
    }
   ],
   "source": "info"
  },
  {
   "cell_type": "code",
   "execution_count": null,
   "metadata": {},
   "outputs": [],
   "source": "data = [i for i in range(len(info))]\nP = permutation(data)"
  },
  {
   "cell_type": "code",
   "execution_count": 7,
   "metadata": {
    "scrolled": false
   },
   "outputs": [
    {
     "name": "stdout",
     "output_type": "stream",
     "text": "32.0 [10.0, 11.0, 8.0, 3.0] [0, 1, 2, 3]\n24.0 [7.0, 11.0, 2.0, 4.0] [0, 1, 3, 2]\n21.0 [10.0, 6.0, 3.0, 2.0] [0, 2, 1, 3]\n25.0 [7.0, 6.0, 3.0, 9.0] [0, 2, 3, 1]\n33.0 [7.0, 9.0, 9.0, 8.0] [0, 3, 1, 2]\n23.0 [7.0, 9.0, 4.0, 3.0] [0, 3, 2, 1]\n25.0 [9.0, 7.0, 6.0, 3.0] [1, 0, 2, 3]\n23.0 [3.0, 7.0, 9.0, 4.0] [1, 0, 3, 2]\n33.0 [9.0, 8.0, 7.0, 9.0] [1, 2, 0, 3]\n32.0 [11.0, 8.0, 3.0, 10.0] [1, 2, 3, 0]\n21.0 [3.0, 2.0, 10.0, 6.0] [1, 3, 0, 2]\n24.0 [11.0, 2.0, 4.0, 7.0] [1, 3, 2, 0]\n24.0 [4.0, 7.0, 11.0, 2.0] [2, 0, 1, 3]\n33.0 [8.0, 7.0, 9.0, 9.0] [2, 0, 3, 1]\n23.0 [4.0, 3.0, 7.0, 9.0] [2, 1, 0, 3]\n21.0 [6.0, 3.0, 2.0, 10.0] [2, 1, 3, 0]\n32.0 [8.0, 3.0, 10.0, 11.0] [2, 3, 0, 1]\n25.0 [6.0, 3.0, 9.0, 7.0] [2, 3, 1, 0]\n32.0 [3.0, 10.0, 11.0, 8.0] [3, 0, 1, 2]\n21.0 [2.0, 10.0, 6.0, 3.0] [3, 0, 2, 1]\n25.0 [3.0, 9.0, 7.0, 6.0] [3, 1, 0, 2]\n33.0 [9.0, 9.0, 8.0, 7.0] [3, 1, 2, 0]\n24.0 [2.0, 4.0, 7.0, 11.0] [3, 2, 0, 1]\n23.0 [9.0, 4.0, 3.0, 7.0] [3, 2, 1, 0]\nbest 21.0\n"
    }
   ],
   "source": "best = float(\"inf\")\nfor p in P:\n    i = 1\n    cpath = []\n    cpath.append(info[p[len(p)-1]][p[0]])\n    while i < len(info):\n        cpath.append(info[p[i-1]][p[i]])\n        i += 1\n    \n    print sum(cpath),cpath,p\n\n    if best > sum(cpath) :\n        best = sum(cpath)\n\nprint \"best\",best"
  },
  {
   "cell_type": "code",
   "execution_count": null,
   "metadata": {},
   "outputs": [],
   "source": ""
  }
 ],
 "metadata": {
  "kernelspec": {
   "display_name": "Python 2",
   "language": "python",
   "name": "python2"
  },
  "language_info": {
   "codemirror_mode": {
    "name": "ipython",
    "version": 2
   },
   "file_extension": ".py",
   "mimetype": "text/x-python",
   "name": "python",
   "nbconvert_exporter": "python",
   "pygments_lexer": "ipython2",
   "version": "2.7.17"
  }
 },
 "nbformat": 4,
 "nbformat_minor": 4
}
